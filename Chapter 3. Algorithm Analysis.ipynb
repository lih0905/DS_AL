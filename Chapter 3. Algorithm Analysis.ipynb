{
 "cells": [
  {
   "cell_type": "markdown",
   "metadata": {},
   "source": [
    "# 3.1 Experimental Studies\n",
    "\n",
    "별 거 없음...\n",
    "\n",
    "# 3.2 The Seven Functions Used in This Book\n",
    "\n",
    "역시나 별 거 없음..."
   ]
  },
  {
   "cell_type": "markdown",
   "metadata": {},
   "source": [
    "# 3.3 Asymptotic Analysis\n",
    "\n",
    "Let $f(n)$ and $g(n)$ be functions mapping positive integers to positive real numbers. \n",
    "\n",
    "1. We say that $f(n)$ is $O(g(n))$ if there is a real constant $c >0$ and an integer constant $n_o \\ge 1$ such that \n",
    "$$ f(n) \\le cg(n)\\quad \\text{for }~ n\\ge n_o.$$\n",
    "\n",
    "1. We say that $f(n)$ is $\\Omega(g(n))$ if $g(n)$ is $O(f(n))$.\n",
    "\n",
    "1. We say that $f(n)$ is $\\Theta(g(n))$ if $f(n)$ is $O(g(n))$ and $f(n)$ is $\\Omega(g(n))$.\n",
    "\n",
    "## 3.3.3 Examples of Algorithm Analysis\n",
    "\n",
    "for a list `data`,\n",
    "\n",
    "* `len(data)` is $O(1)$.\n",
    "* `data[j]` is $O(1)$.\n",
    "* `max(data)` is $O(n)$ ($n$ = len(data)).\n",
    "\n",
    "### Further Analysis of the Maximum-Finding Algorithm\n",
    "\n",
    "주어진 데이터가 랜덤으로 섞여있을 경우를 생각해보자. 이때 $j$번째 원소가 처음 $j$개의 원소 중 가장 클 확률은 $1/j$ 이다. 따라서 가장 큰 원소를 업데이트할 확률은 $H_n = \\sum_j 1/j$, 즉 조화수이다. 그리고 $H_n = O(\\log n)$ 임은 자명하다."
   ]
  },
  {
   "cell_type": "markdown",
   "metadata": {},
   "source": [
    "### Prefix Averages\n",
    "\n",
    "길이가 $n$인 수열 $S$가 주어져있을 때, 수열 $A$를 다음과 같이 정의하자.\n",
    "$$A[j] = \\frac{\\sum_{i=0}^j S[i]}{j+1}.$$\n",
    "이 수열을 구하는 알고리즘을 다음 세 방법을 통해 해결해보자."
   ]
  },
  {
   "cell_type": "code",
   "execution_count": 1,
   "metadata": {},
   "outputs": [],
   "source": [
    "def method1(S):\n",
    "    n = len(S)\n",
    "    A = [0] * n\n",
    "    for j in range(n):\n",
    "        total = 0\n",
    "        for i in range(j+1):\n",
    "            total += S[i]\n",
    "        A[j] = total/(j+1)\n",
    "    return A"
   ]
  },
  {
   "cell_type": "markdown",
   "metadata": {},
   "source": [
    "이렇게 정의한 함수는 당연히 $O(n^2)$ 이다."
   ]
  },
  {
   "cell_type": "code",
   "execution_count": 5,
   "metadata": {},
   "outputs": [],
   "source": [
    "def method2(S):\n",
    "    n = len(S)\n",
    "    A = [0] * n\n",
    "    for j in range(n):\n",
    "        A[j] = sum(S[0:j+1])/(j+1)\n",
    "    return A"
   ]
  },
  {
   "cell_type": "markdown",
   "metadata": {},
   "source": [
    "얘는 좀 나아보이지만, 사실은 `sum(S[0:j+1])` 또한 $O(j+1)$이므로 똑같은 $O(n^2)$ 다."
   ]
  },
  {
   "cell_type": "code",
   "execution_count": 6,
   "metadata": {},
   "outputs": [],
   "source": [
    "def method3(S):\n",
    "    n = len(S)\n",
    "    A = [0] * n\n",
    "    total = 0\n",
    "    for j in range(n):\n",
    "        total += S[j]\n",
    "        A[j] = total / (j+1)\n",
    "    return A"
   ]
  },
  {
   "cell_type": "markdown",
   "metadata": {},
   "source": [
    "얘는 `total`을 매번 갱신하는 아이디어로 인해 $O(n)$이다!\n",
    "\n",
    "과연 실제로 그런지 검증해보자."
   ]
  },
  {
   "cell_type": "code",
   "execution_count": 23,
   "metadata": {},
   "outputs": [],
   "source": [
    "import numpy as np\n",
    "S = np.random.randn(1000)\n",
    "L = np.random.randn(10000)"
   ]
  },
  {
   "cell_type": "code",
   "execution_count": 24,
   "metadata": {},
   "outputs": [],
   "source": [
    "S_ans1 = method1(S)\n",
    "S_ans2 = method2(S)\n",
    "S_ans3 = method3(S)\n",
    "L_ans1 = method1(L)\n",
    "L_ans2 = method2(L)\n",
    "L_ans3 = method3(L)"
   ]
  },
  {
   "cell_type": "code",
   "execution_count": 25,
   "metadata": {},
   "outputs": [
    {
     "name": "stdout",
     "output_type": "stream",
     "text": [
      "[1.3057662724795343, 0.8283140080554918, 0.8470612155332277, 0.38127409033466303, 0.5116712477276042] [1.3057662724795343, 0.8283140080554918, 0.8470612155332277, 0.38127409033466303, 0.5116712477276042] [1.3057662724795343, 0.8283140080554918, 0.8470612155332277, 0.38127409033466303, 0.5116712477276042]\n"
     ]
    }
   ],
   "source": [
    "print(S_ans1[:5],S_ans2[:5],S_ans3[:5])"
   ]
  },
  {
   "cell_type": "code",
   "execution_count": 26,
   "metadata": {},
   "outputs": [
    {
     "name": "stdout",
     "output_type": "stream",
     "text": [
      "[-1.3222271689929312, -0.1293145535776078, -0.41347548462417755, -0.45989177994297115, -0.6153953340969261] [-1.3222271689929312, -0.1293145535776078, -0.41347548462417755, -0.45989177994297115, -0.6153953340969261] [-1.3222271689929312, -0.1293145535776078, -0.41347548462417755, -0.45989177994297115, -0.6153953340969261]\n"
     ]
    }
   ],
   "source": [
    "print(L_ans1[:5],L_ans2[:5],L_ans3[:5])"
   ]
  },
  {
   "cell_type": "code",
   "execution_count": 27,
   "metadata": {},
   "outputs": [
    {
     "name": "stdout",
     "output_type": "stream",
     "text": [
      "71.1 ms ± 107 µs per loop (mean ± std. dev. of 7 runs, 10 loops each)\n"
     ]
    }
   ],
   "source": [
    "%%timeit\n",
    "method1(S)"
   ]
  },
  {
   "cell_type": "code",
   "execution_count": 28,
   "metadata": {},
   "outputs": [
    {
     "name": "stdout",
     "output_type": "stream",
     "text": [
      "51.8 ms ± 58.4 µs per loop (mean ± std. dev. of 7 runs, 10 loops each)\n"
     ]
    }
   ],
   "source": [
    "%%timeit\n",
    "method2(S)"
   ]
  },
  {
   "cell_type": "code",
   "execution_count": 29,
   "metadata": {},
   "outputs": [
    {
     "name": "stdout",
     "output_type": "stream",
     "text": [
      "348 µs ± 315 ns per loop (mean ± std. dev. of 7 runs, 1000 loops each)\n"
     ]
    }
   ],
   "source": [
    "%%timeit\n",
    "method3(S)"
   ]
  },
  {
   "cell_type": "code",
   "execution_count": 30,
   "metadata": {},
   "outputs": [
    {
     "name": "stdout",
     "output_type": "stream",
     "text": [
      "7.1 s ± 5.02 ms per loop (mean ± std. dev. of 7 runs, 1 loop each)\n"
     ]
    }
   ],
   "source": [
    "%%timeit\n",
    "method1(L)"
   ]
  },
  {
   "cell_type": "code",
   "execution_count": 31,
   "metadata": {},
   "outputs": [
    {
     "name": "stdout",
     "output_type": "stream",
     "text": [
      "5.05 s ± 4.61 ms per loop (mean ± std. dev. of 7 runs, 1 loop each)\n"
     ]
    }
   ],
   "source": [
    "%%timeit\n",
    "method2(L)"
   ]
  },
  {
   "cell_type": "code",
   "execution_count": 32,
   "metadata": {},
   "outputs": [
    {
     "name": "stdout",
     "output_type": "stream",
     "text": [
      "3.54 ms ± 7.35 µs per loop (mean ± std. dev. of 7 runs, 100 loops each)\n"
     ]
    }
   ],
   "source": [
    "%%timeit\n",
    "method3(L)"
   ]
  },
  {
   "cell_type": "code",
   "execution_count": 34,
   "metadata": {
    "scrolled": true
   },
   "outputs": [
    {
     "data": {
      "text/plain": [
       "0.001"
      ]
     },
     "execution_count": 34,
     "metadata": {},
     "output_type": "execute_result"
    }
   ],
   "source": [
    "10**(-3)"
   ]
  },
  {
   "cell_type": "code",
   "execution_count": 36,
   "metadata": {},
   "outputs": [],
   "source": [
    "res = np.array([[71.1*(10**(-3)), 51.8*(10**(-3)), 348*(10**(-6))],\n",
    "                [7.1, 5.05, 3.54*(10**(-3))]])"
   ]
  },
  {
   "cell_type": "code",
   "execution_count": 39,
   "metadata": {},
   "outputs": [
    {
     "data": {
      "text/plain": [
       "array([99.85935302, 97.49034749, 10.17241379])"
      ]
     },
     "execution_count": 39,
     "metadata": {},
     "output_type": "execute_result"
    }
   ],
   "source": [
    "res[1]/res[0]"
   ]
  },
  {
   "cell_type": "markdown",
   "metadata": {},
   "source": [
    "대략 1, 2번이 3번에 비해 제곱 정도로 걸리는 것을 알 수 있다!"
   ]
  },
  {
   "cell_type": "markdown",
   "metadata": {},
   "source": [
    "### Three-Way Set Disjointness"
   ]
  },
  {
   "cell_type": "code",
   "execution_count": null,
   "metadata": {},
   "outputs": [],
   "source": []
  },
  {
   "cell_type": "code",
   "execution_count": null,
   "metadata": {},
   "outputs": [],
   "source": []
  },
  {
   "cell_type": "code",
   "execution_count": null,
   "metadata": {},
   "outputs": [],
   "source": []
  },
  {
   "cell_type": "code",
   "execution_count": null,
   "metadata": {},
   "outputs": [],
   "source": []
  }
 ],
 "metadata": {
  "kernelspec": {
   "display_name": "Python 3",
   "language": "python",
   "name": "python3"
  },
  "language_info": {
   "codemirror_mode": {
    "name": "ipython",
    "version": 3
   },
   "file_extension": ".py",
   "mimetype": "text/x-python",
   "name": "python",
   "nbconvert_exporter": "python",
   "pygments_lexer": "ipython3",
   "version": "3.7.3"
  }
 },
 "nbformat": 4,
 "nbformat_minor": 2
}
